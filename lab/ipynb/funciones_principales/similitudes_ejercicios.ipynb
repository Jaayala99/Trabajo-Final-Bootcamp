{
 "cells": [
  {
   "cell_type": "markdown",
   "metadata": {},
   "source": [
    "***EN ESTE NOTEBOOK VAMOS A IMPLEMENTAR LA SEGUNDA FUNCIONALIDAD DE NUESTRO CHATBOT, AL FACILIRALE LOS EJERCICIOS AL USUARIO SEGÚN LA PARTE DEL CUERPO QUE QUIERA ENTRENAR, LE OFRECEMOS LA POSIBILIDAD DE PODER SUSTITUIR EJERCICIOS, MOSTRANDO LOS 5 EJERCICIOS MÁS SIMILARES AL EJERCICIO EN CUESTIÓN.***"
   ]
  },
  {
   "cell_type": "code",
   "execution_count": 1,
   "metadata": {},
   "outputs": [],
   "source": [
    "import torch\n",
    "from sentence_transformers import SentenceTransformer\n",
    "from sklearn.metrics.pairwise import cosine_similarity\n",
    "import json"
   ]
  },
  {
   "cell_type": "markdown",
   "metadata": {},
   "source": [
    "- Definimos la función *'find_similar_exercises_by_tittle'* que se encargará de devolver los ejercicios más similares al ejercicio dado por el usuario comparando su descripción con la de los demás ejercicios, aspectos a destacar en la función : \n",
    "\n",
    "    - Buscar la descripción y la parte del cuerpo correspondientes al título del ejercicio\n",
    "\n",
    "    - Limpiar la descripción del ejercicio con *'clean_description'*\n",
    "\n",
    "    - Codificar la descripción del ejercicio con .encode()\n",
    "\n",
    "    - Calcular similitud con otras descripciones de ejercicios\n",
    "    \n",
    "    - Obtener los ejercicios similares"
   ]
  },
  {
   "cell_type": "code",
   "execution_count": 2,
   "metadata": {},
   "outputs": [
    {
     "name": "stderr",
     "output_type": "stream",
     "text": [
      "/home/ayala/miniconda3/envs/gym/lib/python3.12/site-packages/huggingface_hub/file_download.py:1132: FutureWarning: `resume_download` is deprecated and will be removed in version 1.0.0. Downloads always resume when possible. If you want to force a new download, use `force_download=True`.\n",
      "  warnings.warn(\n",
      "/home/ayala/miniconda3/envs/gym/lib/python3.12/site-packages/huggingface_hub/file_download.py:1132: FutureWarning: `resume_download` is deprecated and will be removed in version 1.0.0. Downloads always resume when possible. If you want to force a new download, use `force_download=True`.\n",
      "  warnings.warn(\n"
     ]
    }
   ],
   "source": [
    "# Cargar los datos de ejercicios desde un archivo JSON\n",
    "with open(\"../../json_data/datos_ejercicios_submuestreo.json\", \"r\", encoding=\"utf-8\") as file:\n",
    "    exercise_data = json.load(file)\n",
    "\n",
    "# Cargar el modelo preentrenado de Sentence Transformers\n",
    "model = SentenceTransformer('sentence-transformers/paraphrase-MiniLM-L6-v2')\n",
    "\n",
    "def find_description_by_title(title):\n",
    "    for exercise in exercise_data:\n",
    "        if exercise[\"Title\"].lower() == title.lower():\n",
    "            return exercise[\"Desc\"]\n",
    "    return None\n",
    "\n",
    "def find_similar_exercises_by_title(title, n=5):\n",
    "    query_description = find_description_by_title(title)\n",
    "    if query_description is None:\n",
    "        print(\"El ejercicio no fue encontrado.\")\n",
    "        return []\n",
    "\n",
    "    descriptions = [query_description] + [exercise[\"Desc\"] for exercise in exercise_data if exercise[\"Title\"].lower() != title.lower()]\n",
    "    body_parts = [exercise[\"BodyPart\"] for exercise in exercise_data if exercise[\"Title\"].lower() != title.lower()]\n",
    "    embeddings = model.encode(descriptions)\n",
    "\n",
    "    query_embedding = embeddings[0].reshape(1, -1)\n",
    "    description_embeddings = embeddings[1:]\n",
    "\n",
    "    similarities = cosine_similarity(query_embedding, description_embeddings)[0]\n",
    "\n",
    "    similar_indices = similarities.argsort()[::-1][:n]\n",
    "    similar_exercises = [(exercise_data[i+1][\"Title\"], descriptions[i], body_parts[i], similarities[i]) for i in similar_indices]\n",
    "\n",
    "    return similar_exercises"
   ]
  },
  {
   "cell_type": "markdown",
   "metadata": {},
   "source": [
    "- Proporcionamos un ejemplo de como sería el funcionamiento e imprimimos la similaridad de cada ejercicio con el ejercicio dado por el usuario, además de su título, descripción y la parte del cuerpo que trabaja"
   ]
  },
  {
   "cell_type": "code",
   "execution_count": 3,
   "metadata": {},
   "outputs": [
    {
     "name": "stdout",
     "output_type": "stream",
     "text": [
      "El ejercicio no fue encontrado.\n",
      "Ejercicios similares al ejercicio  por su descripción: \n",
      "\n"
     ]
    }
   ],
   "source": [
    "exercise_title = input(\"Introduce el nombre del ejercicio: \")\n",
    "similar_exercises = find_similar_exercises_by_title(exercise_title)\n",
    "print(f\"Ejercicios similares al ejercicio {exercise_title} por su descripción: \\n\".format(exercise_title))\n",
    "for title, description, body_part, similarity in similar_exercises:\n",
    "    print(f\"***Ejercicio***\\nTítulo: {title}\\nDescripción: {description}\\nSimilitud: {similarity}\\n\")\n"
   ]
  }
 ],
 "metadata": {
  "kernelspec": {
   "display_name": "gym",
   "language": "python",
   "name": "python3"
  },
  "language_info": {
   "codemirror_mode": {
    "name": "ipython",
    "version": 3
   },
   "file_extension": ".py",
   "mimetype": "text/x-python",
   "name": "python",
   "nbconvert_exporter": "python",
   "pygments_lexer": "ipython3",
   "version": "3.12.3"
  }
 },
 "nbformat": 4,
 "nbformat_minor": 2
}
