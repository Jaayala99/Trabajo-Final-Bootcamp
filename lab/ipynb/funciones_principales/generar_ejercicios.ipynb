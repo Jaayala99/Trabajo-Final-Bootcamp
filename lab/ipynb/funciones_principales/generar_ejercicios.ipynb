{
 "cells": [
  {
   "cell_type": "markdown",
   "metadata": {},
   "source": [
    "***EN ESTE NOTEBOOK IMPLEMENTAMOS UNA PARTE DE NUESTRO CHATBOT, EL USUARIO INTRODUCIRÁ UN MÚSCULO A TRABAJAR Y CON AYUDA DE UN MODELO SENTENCE SIMILARITY GENERAREMOS 5 EJERCICIOS***"
   ]
  },
  {
   "cell_type": "code",
   "execution_count": 1,
   "metadata": {},
   "outputs": [],
   "source": [
    "from sentence_transformers import SentenceTransformer, util\n",
    "import json"
   ]
  },
  {
   "cell_type": "markdown",
   "metadata": {},
   "source": [
    "- Modelo utilizado : *'paraphrase-MiniLM-L6-v2'*"
   ]
  },
  {
   "cell_type": "code",
   "execution_count": 2,
   "metadata": {},
   "outputs": [
    {
     "name": "stderr",
     "output_type": "stream",
     "text": [
      "/home/ayala/miniconda3/envs/gym/lib/python3.12/site-packages/huggingface_hub/file_download.py:1132: FutureWarning: `resume_download` is deprecated and will be removed in version 1.0.0. Downloads always resume when possible. If you want to force a new download, use `force_download=True`.\n",
      "  warnings.warn(\n",
      "/home/ayala/miniconda3/envs/gym/lib/python3.12/site-packages/huggingface_hub/file_download.py:1132: FutureWarning: `resume_download` is deprecated and will be removed in version 1.0.0. Downloads always resume when possible. If you want to force a new download, use `force_download=True`.\n",
      "  warnings.warn(\n"
     ]
    }
   ],
   "source": [
    "# Inicializar un modelo\n",
    "model = SentenceTransformer('paraphrase-MiniLM-L6-v2')\n"
   ]
  },
  {
   "cell_type": "markdown",
   "metadata": {},
   "source": [
    "- Cargamos nuestro archivo *'datos_ejercicios.json'*"
   ]
  },
  {
   "cell_type": "code",
   "execution_count": 3,
   "metadata": {},
   "outputs": [],
   "source": [
    "with open(\"../../json_data/datos_ejercicios_submuestreo.json\", \"r\") as file:\n",
    "    datos = json.load(file)"
   ]
  },
  {
   "cell_type": "markdown",
   "metadata": {},
   "source": [
    "- Definimos una función para poder preprocesar las decripciones de los ejercicios"
   ]
  },
  {
   "cell_type": "code",
   "execution_count": 4,
   "metadata": {},
   "outputs": [],
   "source": [
    "def clean_description(description):\n",
    "    cleaned_description = description.lower()\n",
    "    return cleaned_description"
   ]
  },
  {
   "cell_type": "markdown",
   "metadata": {},
   "source": [
    "- Definimos la función *'find_similar_exercises'* que será la encargada de buscar similitudes entre las descripciones de los ejercicios, en este caso, el usuario nos dará una parte del cuerpo a entrenar, y filtraremos los ejercicios que pertenezcan a esa parte del cuerpo y una vez filtrados, extreaemos las descripciones de cada ejercicio y comparamos la similitud entre ellas\n",
    "\n",
    "- Resumen función : \n",
    "\n",
    "    - Buscar ejercicios que trabajen la parte del cuerpo específica\n",
    "\n",
    "    - Extraer las descripciones de los ejercicios\n",
    "\n",
    "    - Codificar las descripciones de los ejercicios con .encode()\n",
    "    \n",
    "    - Funcion anidada para calcular la similitud coseno\n"
   ]
  },
  {
   "cell_type": "code",
   "execution_count": 5,
   "metadata": {},
   "outputs": [],
   "source": [
    "def find_similar_exercises(body_part, top_n=5):\n",
    "\n",
    "    buscar_ejercicios = [exercise for exercise in datos if exercise[\"BodyPart\"].lower() == body_part.lower()]\n",
    "    if not buscar_ejercicios:\n",
    "        print(f\"No se encontraron ejercicios para la parte del cuerpo '{body_part}' en el conjunto de datos.\")\n",
    "        return []\n",
    "\n",
    "    descripcion_ejercicio = [exercise[\"Desc\"] for exercise in buscar_ejercicios]\n",
    "    exercise_embeddings = model.encode(descripcion_ejercicio, convert_to_tensor=True)\n",
    "    \n",
    "    def cosine_similarity(query_embedding):\n",
    "        similarities = util.pytorch_cos_sim(query_embedding, exercise_embeddings)[0]\n",
    "        similar_indices = similarities.argsort(descending=True)\n",
    "        similar_exercises = []\n",
    "        for i in similar_indices:\n",
    "            title = buscar_ejercicios[i][\"Title\"]\n",
    "            description = buscar_ejercicios[i][\"Desc\"]\n",
    "            body_part = buscar_ejercicios[i]['BodyPart']\n",
    "            similarity = similarities[i].item()\n",
    "            if title not in [ex[0] for ex in similar_exercises]:\n",
    "                similar_exercises.append((title, description, similarity,body_part))\n",
    "            if len(similar_exercises) >= top_n:\n",
    "                break\n",
    "        return similar_exercises\n",
    "\n",
    "    return cosine_similarity"
   ]
  },
  {
   "cell_type": "markdown",
   "metadata": {},
   "source": [
    "- Proporcionamos un ejemplo de como sería el funcionamiento e imprimimos el título de cada ejercicio depende de la parte del cuerpo proporcionada por el usuario, además de su descripción y la parte del cuerpo que trabaja"
   ]
  },
  {
   "cell_type": "code",
   "execution_count": 6,
   "metadata": {},
   "outputs": [
    {
     "name": "stdout",
     "output_type": "stream",
     "text": [
      "***Ejercicio***\n",
      "Título: Medicine Ball Chest Pass\n",
      "Descripción: The medicine ball pass is a simple partner-based exercise that involves throwing a weighted ball back-and-forth. It can be part of a dynamic warm-up for lifting or athletics, but can also work as active rest or as a component of circuit training.\n",
      "Parte del cuerpo: Chest\n",
      "\n",
      "***Ejercicio***\n",
      "Título: Side kick-through push-up\n",
      "Descripción: The side kick-through push-up is a full-body movement that begins in a bear crawl position and ends with a leg kicked out to the side, with a push-up performed between kick-throughs. It is commonly performed for reps or timed bodyweight circuits and animal-style flows, but can also work on its own or as part of a dynamic warm-up or mobility sequence.\n",
      "Parte del cuerpo: Chest\n",
      "\n",
      "***Ejercicio***\n",
      "Título: Svend press\n",
      "Descripción: The Svend press is an exercise where the chest is targeted by performing presses while squeezing two weight plates together. It is usually performed for relatively high reps with light weights as an accessory movement to the bench press or as a burnout movement on chest day.\n",
      "Parte del cuerpo: Chest\n",
      "\n",
      "***Ejercicio***\n",
      "Título: Clapping Push-Up\n",
      "Descripción: Also known as a plyo push-up, the clapping push-up is a bodyweight exercise aimed at increasing upper-body power and strength. It targets the muscles of the chest, triceps, and shoulders, and can be trained in low reps for power and strength, or higher reps for conditioning.\n",
      "Parte del cuerpo: Chest\n",
      "\n",
      "***Ejercicio***\n",
      "Título: King Maker Standing Dumbbell Shoulder Press\n",
      "Descripción: The standing dumbbell shoulder press is a classic deltoid-builder (especially the front deltoids) that’s ubiquitous in gyms around the world. Performing the move standing up as opposed to seated allows for more weight to be used.\n",
      "Parte del cuerpo: Chest\n",
      "\n"
     ]
    }
   ],
   "source": [
    "# Ejemplo\n",
    "body_part_input = input(\"Introduce la parte del cuerpo para la que quieres ejercicios: \")\n",
    "devolver_ejercicios_similares = find_similar_exercises(body_part_input)\n",
    "\n",
    "if devolver_ejercicios_similares:\n",
    "    ejercicios_similares = devolver_ejercicios_similares(model.encode(clean_description(\"\")))\n",
    "    for title, description, similarity, body_part in ejercicios_similares:\n",
    "        print(f\"***Ejercicio***\\nTítulo: {title}\\nDescripción: {description}\\nParte del cuerpo: {body_part}\\n\")"
   ]
  }
 ],
 "metadata": {
  "kernelspec": {
   "display_name": "gym",
   "language": "python",
   "name": "python3"
  },
  "language_info": {
   "codemirror_mode": {
    "name": "ipython",
    "version": 3
   },
   "file_extension": ".py",
   "mimetype": "text/x-python",
   "name": "python",
   "nbconvert_exporter": "python",
   "pygments_lexer": "ipython3",
   "version": "3.12.3"
  }
 },
 "nbformat": 4,
 "nbformat_minor": 2
}
