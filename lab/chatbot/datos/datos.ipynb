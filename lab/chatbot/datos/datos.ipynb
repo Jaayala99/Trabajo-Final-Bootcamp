{
 "cells": [
  {
   "cell_type": "code",
   "execution_count": 7,
   "metadata": {},
   "outputs": [],
   "source": [
    "import pandas as pd\n",
    "import json\n",
    "from datasets import Dataset, load_dataset, dataset_dict\n",
    "\n",
    "datos = load_dataset('HazSylvia/Fitness_Unformatted')"
   ]
  },
  {
   "cell_type": "code",
   "execution_count": 8,
   "metadata": {},
   "outputs": [],
   "source": [
    "df = pd.DataFrame(datos['train'])\n",
    "\n",
    "# Guardar el DataFrame como un archivo CSV\n",
    "df.to_csv(\"datos_chatbot.csv\", index=False)"
   ]
  },
  {
   "cell_type": "code",
   "execution_count": 9,
   "metadata": {},
   "outputs": [],
   "source": [
    "# Cargar el CSV en un DataFrame de pandas\n",
    "ruta_df = \"datos_chatbot.csv\"\n",
    "df = pd.read_csv(ruta_df)\n",
    "\n",
    "# Convertir cada fila del DataFrame a un diccionario y almacenarlos en una lista\n",
    "datos = []\n",
    "for index, row in df.iterrows():\n",
    "    row_dict = row.to_dict()\n",
    "    datos.append(row_dict)\n",
    "\n",
    "# Guardar la lista de diccionarios en un archivo JSON\n",
    "archivo_json= \"datos_chatbot.json\"\n",
    "with open(archivo_json, \"w\") as json_file:\n",
    "    json.dump(datos, json_file, indent=4)"
   ]
  }
 ],
 "metadata": {
  "kernelspec": {
   "display_name": "gym",
   "language": "python",
   "name": "python3"
  },
  "language_info": {
   "codemirror_mode": {
    "name": "ipython",
    "version": 3
   },
   "file_extension": ".py",
   "mimetype": "text/x-python",
   "name": "python",
   "nbconvert_exporter": "python",
   "pygments_lexer": "ipython3",
   "version": "3.12.3"
  }
 },
 "nbformat": 4,
 "nbformat_minor": 2
}
