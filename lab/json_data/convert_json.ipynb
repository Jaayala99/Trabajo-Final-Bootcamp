{
 "cells": [
  {
   "cell_type": "code",
   "execution_count": 1,
   "metadata": {},
   "outputs": [],
   "source": [
    "import pandas as pd\n",
    "import json"
   ]
  },
  {
   "cell_type": "markdown",
   "metadata": {},
   "source": [
    "- **DATOS COMPLETOS** "
   ]
  },
  {
   "cell_type": "code",
   "execution_count": 2,
   "metadata": {},
   "outputs": [],
   "source": [
    "# Cargar el CSV en un DataFrame de pandas\n",
    "ruta_df = \"../dataset/megaGymDataset_clean.csv\"\n",
    "df = pd.read_csv(ruta_df)\n",
    "\n",
    "# Convertir cada fila del DataFrame a un diccionario y almacenarlos en una lista\n",
    "datos = []\n",
    "for index, row in df.iterrows():\n",
    "    row_dict = row.to_dict()\n",
    "    datos.append(row_dict)\n",
    "\n",
    "# Guardar la lista de diccionarios en un archivo JSON\n",
    "archivo_json= \"datos_ejercicios.json\"\n",
    "with open(archivo_json, \"w\") as json_file:\n",
    "    json.dump(datos, json_file, indent=4)"
   ]
  },
  {
   "cell_type": "markdown",
   "metadata": {},
   "source": [
    "- **SUBMUESTREO** "
   ]
  },
  {
   "cell_type": "code",
   "execution_count": 3,
   "metadata": {},
   "outputs": [],
   "source": [
    "# Cargar el CSV en un DataFrame de pandas\n",
    "ruta_df = \"../dataset/megaGymDataset_balanceado.csv\"\n",
    "df = pd.read_csv(ruta_df)\n",
    "\n",
    "# Convertir cada fila del DataFrame a un diccionario y almacenarlos en una lista\n",
    "datos = []\n",
    "for index, row in df.iterrows():\n",
    "    row_dict = row.to_dict()\n",
    "    datos.append(row_dict)\n",
    "\n",
    "# Guardar la lista de diccionarios en un archivo JSON\n",
    "archivo_json= \"datos_ejercicios_submuestreo.json\"\n",
    "with open(archivo_json, \"w\") as json_file:\n",
    "    json.dump(datos, json_file, indent=4)"
   ]
  }
 ],
 "metadata": {
  "kernelspec": {
   "display_name": "gym",
   "language": "python",
   "name": "python3"
  },
  "language_info": {
   "codemirror_mode": {
    "name": "ipython",
    "version": 3
   },
   "file_extension": ".py",
   "mimetype": "text/x-python",
   "name": "python",
   "nbconvert_exporter": "python",
   "pygments_lexer": "ipython3",
   "version": "3.12.3"
  }
 },
 "nbformat": 4,
 "nbformat_minor": 2
}
