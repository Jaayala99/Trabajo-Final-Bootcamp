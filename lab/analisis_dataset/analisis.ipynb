{
 "cells": [
  {
   "cell_type": "code",
   "execution_count": 1,
   "metadata": {},
   "outputs": [],
   "source": [
    "import pandas as pd\n",
    "import matplotlib.pyplot as plt\n",
    "import seaborn as sns"
   ]
  },
  {
   "cell_type": "code",
   "execution_count": 2,
   "metadata": {},
   "outputs": [
    {
     "data": {
      "text/html": [
       "<div>\n",
       "<style scoped>\n",
       "    .dataframe tbody tr th:only-of-type {\n",
       "        vertical-align: middle;\n",
       "    }\n",
       "\n",
       "    .dataframe tbody tr th {\n",
       "        vertical-align: top;\n",
       "    }\n",
       "\n",
       "    .dataframe thead th {\n",
       "        text-align: right;\n",
       "    }\n",
       "</style>\n",
       "<table border=\"1\" class=\"dataframe\">\n",
       "  <thead>\n",
       "    <tr style=\"text-align: right;\">\n",
       "      <th></th>\n",
       "      <th>Unnamed: 0</th>\n",
       "      <th>Title</th>\n",
       "      <th>Desc</th>\n",
       "      <th>Type</th>\n",
       "      <th>BodyPart</th>\n",
       "      <th>Equipment</th>\n",
       "      <th>Level</th>\n",
       "      <th>Rating</th>\n",
       "      <th>RatingDesc</th>\n",
       "    </tr>\n",
       "  </thead>\n",
       "  <tbody>\n",
       "    <tr>\n",
       "      <th>0</th>\n",
       "      <td>0</td>\n",
       "      <td>Partner plank band row</td>\n",
       "      <td>The partner plank band row is an abdominal exe...</td>\n",
       "      <td>Strength</td>\n",
       "      <td>Abdominals</td>\n",
       "      <td>Bands</td>\n",
       "      <td>Intermediate</td>\n",
       "      <td>0.0</td>\n",
       "      <td>NaN</td>\n",
       "    </tr>\n",
       "    <tr>\n",
       "      <th>1</th>\n",
       "      <td>1</td>\n",
       "      <td>Banded crunch isometric hold</td>\n",
       "      <td>The banded crunch isometric hold is an exercis...</td>\n",
       "      <td>Strength</td>\n",
       "      <td>Abdominals</td>\n",
       "      <td>Bands</td>\n",
       "      <td>Intermediate</td>\n",
       "      <td>NaN</td>\n",
       "      <td>NaN</td>\n",
       "    </tr>\n",
       "    <tr>\n",
       "      <th>2</th>\n",
       "      <td>2</td>\n",
       "      <td>FYR Banded Plank Jack</td>\n",
       "      <td>The banded plank jack is a variation on the pl...</td>\n",
       "      <td>Strength</td>\n",
       "      <td>Abdominals</td>\n",
       "      <td>Bands</td>\n",
       "      <td>Intermediate</td>\n",
       "      <td>NaN</td>\n",
       "      <td>NaN</td>\n",
       "    </tr>\n",
       "    <tr>\n",
       "      <th>3</th>\n",
       "      <td>3</td>\n",
       "      <td>Banded crunch</td>\n",
       "      <td>The banded crunch is an exercise targeting the...</td>\n",
       "      <td>Strength</td>\n",
       "      <td>Abdominals</td>\n",
       "      <td>Bands</td>\n",
       "      <td>Intermediate</td>\n",
       "      <td>NaN</td>\n",
       "      <td>NaN</td>\n",
       "    </tr>\n",
       "    <tr>\n",
       "      <th>4</th>\n",
       "      <td>4</td>\n",
       "      <td>Crunch</td>\n",
       "      <td>The crunch is a popular core exercise targetin...</td>\n",
       "      <td>Strength</td>\n",
       "      <td>Abdominals</td>\n",
       "      <td>Bands</td>\n",
       "      <td>Intermediate</td>\n",
       "      <td>NaN</td>\n",
       "      <td>NaN</td>\n",
       "    </tr>\n",
       "    <tr>\n",
       "      <th>5</th>\n",
       "      <td>5</td>\n",
       "      <td>Decline band press sit-up</td>\n",
       "      <td>The decline band press sit-up is a weighted co...</td>\n",
       "      <td>Strength</td>\n",
       "      <td>Abdominals</td>\n",
       "      <td>Bands</td>\n",
       "      <td>Intermediate</td>\n",
       "      <td>NaN</td>\n",
       "      <td>NaN</td>\n",
       "    </tr>\n",
       "    <tr>\n",
       "      <th>6</th>\n",
       "      <td>6</td>\n",
       "      <td>FYR2 Banded Frog Pump</td>\n",
       "      <td>NaN</td>\n",
       "      <td>Strength</td>\n",
       "      <td>Abdominals</td>\n",
       "      <td>Bands</td>\n",
       "      <td>Intermediate</td>\n",
       "      <td>NaN</td>\n",
       "      <td>NaN</td>\n",
       "    </tr>\n",
       "    <tr>\n",
       "      <th>7</th>\n",
       "      <td>7</td>\n",
       "      <td>Band low-to-high twist</td>\n",
       "      <td>The band low-to-high twist is a core exercise ...</td>\n",
       "      <td>Strength</td>\n",
       "      <td>Abdominals</td>\n",
       "      <td>Bands</td>\n",
       "      <td>Intermediate</td>\n",
       "      <td>NaN</td>\n",
       "      <td>NaN</td>\n",
       "    </tr>\n",
       "    <tr>\n",
       "      <th>8</th>\n",
       "      <td>8</td>\n",
       "      <td>Barbell roll-out</td>\n",
       "      <td>The barbell roll-out is an abdominal exercise ...</td>\n",
       "      <td>Strength</td>\n",
       "      <td>Abdominals</td>\n",
       "      <td>Barbell</td>\n",
       "      <td>Intermediate</td>\n",
       "      <td>8.9</td>\n",
       "      <td>Average</td>\n",
       "    </tr>\n",
       "    <tr>\n",
       "      <th>9</th>\n",
       "      <td>9</td>\n",
       "      <td>Barbell Ab Rollout - On Knees</td>\n",
       "      <td>The barbell roll-out is an abdominal exercise ...</td>\n",
       "      <td>Strength</td>\n",
       "      <td>Abdominals</td>\n",
       "      <td>Barbell</td>\n",
       "      <td>Intermediate</td>\n",
       "      <td>8.9</td>\n",
       "      <td>Average</td>\n",
       "    </tr>\n",
       "  </tbody>\n",
       "</table>\n",
       "</div>"
      ],
      "text/plain": [
       "   Unnamed: 0                          Title  \\\n",
       "0           0         Partner plank band row   \n",
       "1           1   Banded crunch isometric hold   \n",
       "2           2          FYR Banded Plank Jack   \n",
       "3           3                  Banded crunch   \n",
       "4           4                         Crunch   \n",
       "5           5      Decline band press sit-up   \n",
       "6           6          FYR2 Banded Frog Pump   \n",
       "7           7         Band low-to-high twist   \n",
       "8           8               Barbell roll-out   \n",
       "9           9  Barbell Ab Rollout - On Knees   \n",
       "\n",
       "                                                Desc      Type    BodyPart  \\\n",
       "0  The partner plank band row is an abdominal exe...  Strength  Abdominals   \n",
       "1  The banded crunch isometric hold is an exercis...  Strength  Abdominals   \n",
       "2  The banded plank jack is a variation on the pl...  Strength  Abdominals   \n",
       "3  The banded crunch is an exercise targeting the...  Strength  Abdominals   \n",
       "4  The crunch is a popular core exercise targetin...  Strength  Abdominals   \n",
       "5  The decline band press sit-up is a weighted co...  Strength  Abdominals   \n",
       "6                                                NaN  Strength  Abdominals   \n",
       "7  The band low-to-high twist is a core exercise ...  Strength  Abdominals   \n",
       "8  The barbell roll-out is an abdominal exercise ...  Strength  Abdominals   \n",
       "9  The barbell roll-out is an abdominal exercise ...  Strength  Abdominals   \n",
       "\n",
       "  Equipment         Level  Rating RatingDesc  \n",
       "0     Bands  Intermediate     0.0        NaN  \n",
       "1     Bands  Intermediate     NaN        NaN  \n",
       "2     Bands  Intermediate     NaN        NaN  \n",
       "3     Bands  Intermediate     NaN        NaN  \n",
       "4     Bands  Intermediate     NaN        NaN  \n",
       "5     Bands  Intermediate     NaN        NaN  \n",
       "6     Bands  Intermediate     NaN        NaN  \n",
       "7     Bands  Intermediate     NaN        NaN  \n",
       "8   Barbell  Intermediate     8.9    Average  \n",
       "9   Barbell  Intermediate     8.9    Average  "
      ]
     },
     "execution_count": 2,
     "metadata": {},
     "output_type": "execute_result"
    }
   ],
   "source": [
    "df_gym = pd.read_csv('../dataset/megaGymDataset.csv')\n",
    "df_gym.head(10)\n"
   ]
  },
  {
   "cell_type": "markdown",
   "metadata": {},
   "source": [
    "- Algunos puntos que trataremos en este apartado serán : \n",
    "\n",
    "    - Descripción de los datos\n",
    "\n",
    "    - Exploración de datos\n",
    "\n",
    "    - Limpieza de datos\n",
    "\n",
    "    - Visualización de datos\n",
    "    \n"
   ]
  },
  {
   "cell_type": "markdown",
   "metadata": {},
   "source": [
    "***DESCRIPCIÓN DE LOS DATOS***"
   ]
  },
  {
   "cell_type": "markdown",
   "metadata": {},
   "source": [
    "1.-  En primer lugar, vamos a intentar contextualizar cada columna de nuestro dataset ya que nos ayudará a entender mejor nuestro dataset "
   ]
  },
  {
   "cell_type": "code",
   "execution_count": 3,
   "metadata": {},
   "outputs": [
    {
     "data": {
      "text/plain": [
       "Index(['Unnamed: 0', 'Title', 'Desc', 'Type', 'BodyPart', 'Equipment', 'Level',\n",
       "       'Rating', 'RatingDesc'],\n",
       "      dtype='object')"
      ]
     },
     "execution_count": 3,
     "metadata": {},
     "output_type": "execute_result"
    }
   ],
   "source": [
    "df_gym.columns"
   ]
  },
  {
   "cell_type": "code",
   "execution_count": 4,
   "metadata": {},
   "outputs": [
    {
     "data": {
      "text/html": [
       "<div>\n",
       "<style scoped>\n",
       "    .dataframe tbody tr th:only-of-type {\n",
       "        vertical-align: middle;\n",
       "    }\n",
       "\n",
       "    .dataframe tbody tr th {\n",
       "        vertical-align: top;\n",
       "    }\n",
       "\n",
       "    .dataframe thead th {\n",
       "        text-align: right;\n",
       "    }\n",
       "</style>\n",
       "<table border=\"1\" class=\"dataframe\">\n",
       "  <thead>\n",
       "    <tr style=\"text-align: right;\">\n",
       "      <th></th>\n",
       "      <th>Unnamed: 0</th>\n",
       "      <th>Title</th>\n",
       "      <th>Desc</th>\n",
       "      <th>Type</th>\n",
       "      <th>BodyPart</th>\n",
       "      <th>Equipment</th>\n",
       "      <th>Level</th>\n",
       "      <th>Rating</th>\n",
       "      <th>RatingDesc</th>\n",
       "    </tr>\n",
       "  </thead>\n",
       "  <tbody>\n",
       "    <tr>\n",
       "      <th>0</th>\n",
       "      <td>0</td>\n",
       "      <td>Partner plank band row</td>\n",
       "      <td>The partner plank band row is an abdominal exe...</td>\n",
       "      <td>Strength</td>\n",
       "      <td>Abdominals</td>\n",
       "      <td>Bands</td>\n",
       "      <td>Intermediate</td>\n",
       "      <td>0.0</td>\n",
       "      <td>NaN</td>\n",
       "    </tr>\n",
       "    <tr>\n",
       "      <th>1</th>\n",
       "      <td>1</td>\n",
       "      <td>Banded crunch isometric hold</td>\n",
       "      <td>The banded crunch isometric hold is an exercis...</td>\n",
       "      <td>Strength</td>\n",
       "      <td>Abdominals</td>\n",
       "      <td>Bands</td>\n",
       "      <td>Intermediate</td>\n",
       "      <td>NaN</td>\n",
       "      <td>NaN</td>\n",
       "    </tr>\n",
       "    <tr>\n",
       "      <th>2</th>\n",
       "      <td>2</td>\n",
       "      <td>FYR Banded Plank Jack</td>\n",
       "      <td>The banded plank jack is a variation on the pl...</td>\n",
       "      <td>Strength</td>\n",
       "      <td>Abdominals</td>\n",
       "      <td>Bands</td>\n",
       "      <td>Intermediate</td>\n",
       "      <td>NaN</td>\n",
       "      <td>NaN</td>\n",
       "    </tr>\n",
       "    <tr>\n",
       "      <th>3</th>\n",
       "      <td>3</td>\n",
       "      <td>Banded crunch</td>\n",
       "      <td>The banded crunch is an exercise targeting the...</td>\n",
       "      <td>Strength</td>\n",
       "      <td>Abdominals</td>\n",
       "      <td>Bands</td>\n",
       "      <td>Intermediate</td>\n",
       "      <td>NaN</td>\n",
       "      <td>NaN</td>\n",
       "    </tr>\n",
       "    <tr>\n",
       "      <th>4</th>\n",
       "      <td>4</td>\n",
       "      <td>Crunch</td>\n",
       "      <td>The crunch is a popular core exercise targetin...</td>\n",
       "      <td>Strength</td>\n",
       "      <td>Abdominals</td>\n",
       "      <td>Bands</td>\n",
       "      <td>Intermediate</td>\n",
       "      <td>NaN</td>\n",
       "      <td>NaN</td>\n",
       "    </tr>\n",
       "  </tbody>\n",
       "</table>\n",
       "</div>"
      ],
      "text/plain": [
       "   Unnamed: 0                         Title  \\\n",
       "0           0        Partner plank band row   \n",
       "1           1  Banded crunch isometric hold   \n",
       "2           2         FYR Banded Plank Jack   \n",
       "3           3                 Banded crunch   \n",
       "4           4                        Crunch   \n",
       "\n",
       "                                                Desc      Type    BodyPart  \\\n",
       "0  The partner plank band row is an abdominal exe...  Strength  Abdominals   \n",
       "1  The banded crunch isometric hold is an exercis...  Strength  Abdominals   \n",
       "2  The banded plank jack is a variation on the pl...  Strength  Abdominals   \n",
       "3  The banded crunch is an exercise targeting the...  Strength  Abdominals   \n",
       "4  The crunch is a popular core exercise targetin...  Strength  Abdominals   \n",
       "\n",
       "  Equipment         Level  Rating RatingDesc  \n",
       "0     Bands  Intermediate     0.0        NaN  \n",
       "1     Bands  Intermediate     NaN        NaN  \n",
       "2     Bands  Intermediate     NaN        NaN  \n",
       "3     Bands  Intermediate     NaN        NaN  \n",
       "4     Bands  Intermediate     NaN        NaN  "
      ]
     },
     "execution_count": 4,
     "metadata": {},
     "output_type": "execute_result"
    }
   ],
   "source": [
    "df_gym.head()"
   ]
  },
  {
   "cell_type": "markdown",
   "metadata": {},
   "source": [
    "- En nuestro Dataset encontramos las siguientes columnas :\n",
    "\n",
    "    - **Unnamed:0** = (Posteriormente será cambiado a un identificador para cada ejercicio)\n",
    "\n",
    "    - **Title** = Título del ejercicio\n",
    "\n",
    "    - **Desc** = Breve descripción del ejercicio\n",
    "\n",
    "    - **Type** = Tipo de ejercicio\n",
    "\n",
    "    - **BodyPart** = Parte del cuerpo que trabajaremos con el ejercicio\n",
    "\n",
    "    - **Equipment** = Equipamiento que necesitaremos para realizar el ejercicio\n",
    "\n",
    "    - **Level** = Nivel recomendado que debe tener el usuario para realizar correctamente el ejercicio\n",
    "\n",
    "    - **Rating** = Nota del ejercicio\n",
    "    \n",
    "    - **RatingDesc** = Descripción Rating\n"
   ]
  },
  {
   "cell_type": "markdown",
   "metadata": {},
   "source": [
    "2.- Vamos a intentar desglosar algunas columnas para facilitar la lectura y podamos entender más y mejor nuestro dataset"
   ]
  },
  {
   "cell_type": "code",
   "execution_count": 5,
   "metadata": {},
   "outputs": [
    {
     "data": {
      "text/plain": [
       "Type\n",
       "Strength                 2545\n",
       "Stretching                147\n",
       "Plyometrics                97\n",
       "Powerlifting               37\n",
       "Cardio                     35\n",
       "Olympic Weightlifting      35\n",
       "Strongman                  22\n",
       "Name: count, dtype: int64"
      ]
     },
     "execution_count": 5,
     "metadata": {},
     "output_type": "execute_result"
    }
   ],
   "source": [
    "df_gym['Type'].value_counts()"
   ]
  },
  {
   "cell_type": "markdown",
   "metadata": {},
   "source": [
    "- En la columna *'Type'* (tipo de ejercicio) encontramos los siguietes valores :\n",
    "\n",
    "\n",
    "    - **Strength**: Se refiere a ejercicios diseñados específicamente para aumentar la fuerza muscular. Estos ejercicios suelen implicar levantamiento de pesas o trabajo con resistencia, con el objetivo de desarrollar músculos más fuertes y aumentar la capacidad de levantamiento de peso.\n",
    "\n",
    "    - **Stretching**: Modalidad que consiste en diferentes ejercicios derivados del yoga, de la gimnasia tradicional y de la danza clásica. El stretching se enfoca en estirar y flexibilizar los músculos y tejidos del cuerpo, lo que puede ayudar a mejorar la flexibilidad, reducir la rigidez muscular y prevenir lesiones.\n",
    "\n",
    "    - **Plyometrics**: Se refiere a ejercicios que implican movimientos explosivos de alta intensidad, como saltos, saltos de caja, y lanzamientos de objetos. El objetivo de los ejercicios plyométricos es mejorar la potencia muscular, la velocidad y la capacidad de explosión.\n",
    "\n",
    "    - **Powerlifting**: Es un deporte de fuerza que consiste en tres ejercicios principales: sentadilla (squat), press de banca (bench press) y peso muerto (deadlift). El powerlifting se centra en levantar la mayor cantidad de peso posible en cada uno de estos ejercicios, con el objetivo de mejorar la fuerza máxima.\n",
    "\n",
    "    - **Cardio**: Se refiere a ejercicios diseñados para mejorar la salud cardiovascular y la resistencia aeróbica. Estos ejercicios suelen implicar actividades de intensidad moderada a alta, como correr, nadar, montar en bicicleta o hacer ejercicio en máquinas cardiovasculares.\n",
    "\n",
    "    - **Olympic Weightlifting**: También conocido como levantamiento de pesas olímpico, es un deporte que consiste en dos ejercicios principales: el snatch (arrancada) y el clean and jerk (dos tiempos). El objetivo en el levantamiento de pesas olímpico es levantar la mayor cantidad de peso posible en cada uno de estos movimientos, siguiendo una técnica específica.\n",
    "\n",
    "    - **Strongman**: Es una modalidad de entrenamiento que se centra en la realización de ejercicios que simulan las actividades físicas realizadas por los competidores de strongman. Incluye pruebas de fuerza, resistencia y capacidad física general, como levantamiento de neumáticos, arrastre de trineos con peso, lanzamiento de objetos y otras actividades desafiantes.\n"
   ]
  },
  {
   "cell_type": "code",
   "execution_count": 6,
   "metadata": {},
   "outputs": [
    {
     "data": {
      "text/plain": [
       "BodyPart\n",
       "Abdominals     662\n",
       "Quadriceps     646\n",
       "Shoulders      340\n",
       "Chest          262\n",
       "Biceps         168\n",
       "Triceps        151\n",
       "Lats           124\n",
       "Hamstrings     121\n",
       "Middle Back    118\n",
       "Lower Back      97\n",
       "Glutes          81\n",
       "Calves          47\n",
       "Forearms        31\n",
       "Traps           24\n",
       "Abductors       21\n",
       "Adductors       17\n",
       "Neck             8\n",
       "Name: count, dtype: int64"
      ]
     },
     "execution_count": 6,
     "metadata": {},
     "output_type": "execute_result"
    }
   ],
   "source": [
    "df_gym['BodyPart'].value_counts()"
   ]
  },
  {
   "cell_type": "markdown",
   "metadata": {},
   "source": [
    "- En la columna *'BodyPart'* encontramos los siguietes valores :\n",
    "\n",
    "    - **Abdominals**: Grupo muscular que se encuentra en la parte frontal del tronco y que comprende los músculos abdominales rectos, oblicuos externos e internos, y transverso del abdomen. Son responsables de la flexión y rotación del tronco.\n",
    "\n",
    "    - **Quadriceps**: Grupo muscular ubicado en la parte frontal del muslo, compuesto principalmente por cuatro músculos. Son responsables de la extensión de la pierna en la articulación de la rodilla.\n",
    "\n",
    "    - **Shoulders**: Se refiere a los músculos del hombro, incluyendo el deltoides, el músculo supraespinoso, el infraespinoso, el redondo menor, y el músculo subescapular. Son responsables de la movilidad y estabilidad del hombro.\n",
    "\n",
    "    - **Chest**: Se refiere a los músculos pectorales mayor y menor, ubicados en la parte frontal del tórax. Son responsables de la flexión, extensión, aducción y rotación del hombro, así como de la estabilización de la articulación del hombro.\n",
    "\n",
    "    - **Biceps**: Grupo muscular ubicado en la parte frontal del brazo, compuesto por dos cabezas: la cabeza larga y la cabeza corta. Son responsables de la flexión del codo y de la supinación del antebrazo.\n",
    "\n",
    "    - **Triceps**: Grupo muscular ubicado en la parte posterior del brazo, compuesto por tres cabezas: la cabeza larga, la cabeza medial y la cabeza lateral. Son responsables de la extensión del codo.\n",
    "\n",
    "    - **Lats**: Se refiere a los músculos dorsales anchos, ubicados en la parte lateral de la espalda. Son responsables de la extensión, aducción y rotación interna del hombro.\n",
    "\n",
    "    - **Hamstrings**: Grupo muscular ubicado en la parte posterior del muslo, compuesto principalmente por tres músculos: el bíceps femoral, el semitendinoso y el semimembranoso. Son responsables de la flexión de la pierna en la articulación de la rodilla.\n",
    "\n",
    "    - **Middle Back**: Se refiere a los músculos de la parte media de la espalda, incluyendo los músculos erectores de la columna vertebral y los músculos de la cintura escapular. Son responsables de la extensión, flexión lateral y rotación de la columna vertebral.\n",
    "\n",
    "    - **Lower Back**: Se refiere a los músculos de la parte baja de la espalda, incluyendo los músculos lumbares y los músculos de la pelvis. Son responsables de la extensión, flexión lateral y rotación de la columna vertebral, así como de la estabilización de la pelvis.\n",
    "\n",
    "    - **Glutes**: Se refiere a los músculos glúteos mayor, medio y menor, ubicados en la parte posterior de la cadera. Son responsables de la extensión, abducción y rotación externa de la cadera.\n",
    "\n",
    "    - **Calves**: Se refiere a los músculos de la pantorrilla, incluyendo el músculo gastrocnemio y el músculo sóleo. Son responsables de la flexión plantar del tobillo.\n",
    "\n",
    "    - **Forearms**: Se refiere a los músculos del antebrazo, incluyendo los músculos flexores y extensores de la muñeca y los dedos. Son responsables de la flexión y extensión de la muñeca y los dedos.\n",
    "\n",
    "    - **Traps**: Se refiere a los músculos trapecios, ubicados en la parte superior y media de la espalda. Son responsables de la elevación, retraimiento y rotación de la escápula.\n",
    "\n",
    "    - **Abductors**: Se refiere a los músculos abductores, ubicados en la parte externa del muslo. Son responsables de la abducción de la cadera.\n",
    "\n",
    "    - **Adductors**: Se refiere a los músculos aductores, ubicados en la parte interna del muslo. Son responsables de la aducción de la cadera.\n",
    "\n",
    "    - **Neck**: Se refiere a los músculos del cuello, incluyendo los músculos esternocleidomastoideos y los músculos trapecios. Son responsables de la flexión, extensión y rotación del cuello.\n"
   ]
  },
  {
   "cell_type": "code",
   "execution_count": 7,
   "metadata": {},
   "outputs": [
    {
     "data": {
      "text/plain": [
       "Equipment\n",
       "Body Only        1078\n",
       "Dumbbell          516\n",
       "Barbell           282\n",
       "Other             254\n",
       "Cable             226\n",
       "Machine           175\n",
       "Kettlebells       149\n",
       "Bands             100\n",
       "Medicine Ball      38\n",
       "Exercise Ball      35\n",
       "E-Z Curl Bar       22\n",
       "Foam Roll          11\n",
       "Name: count, dtype: int64"
      ]
     },
     "execution_count": 7,
     "metadata": {},
     "output_type": "execute_result"
    }
   ],
   "source": [
    "df_gym['Equipment'].value_counts()"
   ]
  },
  {
   "cell_type": "markdown",
   "metadata": {},
   "source": [
    "- En la columna *'Equipment'* encontramos los siguietes valores :\n",
    "\n",
    "    - **Body Only**: Se refiere a ejercicios que se realizan exclusivamente con el peso corporal del individuo, sin el uso de ningún equipo adicional.\n",
    "\n",
    "    - **Dumbbell**: Se refiere a ejercicios que se realizan utilizando pesas libres en forma de mancuernas. Las mancuernas permiten un rango de movimiento más amplio y ofrecen una mayor variedad de ejercicios en comparación con otros tipos de equipo.\n",
    "\n",
    "    - **Barbell**: Se refiere a ejercicios que se realizan utilizando una barra de pesas, a menudo en combinación con discos de peso. Las barras de pesas permiten levantar una cantidad significativa de peso y son comúnmente utilizadas en ejercicios de levantamiento de peso y entrenamiento de fuerza.\n",
    "\n",
    "    - **Other**: Se refiere a ejercicios que utilizan otro tipo de equipo que no está específicamente clasificado en las categorías anteriores.\n",
    "\n",
    "    - **Cable**: Se refiere a ejercicios que se realizan utilizando máquinas de poleas o cables. Estas máquinas proporcionan resistencia constante a lo largo de todo el rango de movimiento y son útiles para ejercicios de aislamiento y entrenamiento de fuerza.\n",
    "\n",
    "    - **Machine**: Se refiere a ejercicios que se realizan utilizando máquinas de entrenamiento de fuerza que ofrecen resistencia controlada a través de un sistema de poleas y pesas. Las máquinas de fuerza son útiles para usuarios de todos los niveles de habilidad y pueden ayudar a aislar grupos musculares específicos.\n",
    "\n",
    "    - **Kettlebells**: Se refiere a ejercicios que se realizan utilizando pesas rusas o kettlebells. Las kettlebells son pesas de hierro fundido con forma de esfera con un asa en la parte superior, que permiten realizar una variedad de ejercicios de fuerza y ​​acondicionamiento físico funcional.\n",
    "\n",
    "    - **Bands**: Se refiere a ejercicios que se realizan utilizando bandas de resistencia elásticas. Las bandas de resistencia proporcionan una resistencia variable y son útiles para ejercicios de fortalecimiento muscular y rehabilitación.\n",
    "\n",
    "    - **Medicine Ball**: Se refiere a ejercicios que se realizan utilizando una bola medicinal o medicine ball. Las medicine balls son pesadas y están diseñadas para ser lanzadas, atrapadas o levantadas, y se utilizan para mejorar la fuerza, la potencia y la coordinación.\n",
    "\n",
    "    - **Exercise Ball**: Se refiere a ejercicios que se realizan utilizando una pelota de ejercicio o stability ball. Las exercise balls son utilizadas para mejorar el equilibrio, la estabilidad y la fuerza del núcleo, y se pueden usar en una variedad de ejercicios de pilates, yoga y entrenamiento de fuerza.\n",
    "\n",
    "    - **E-Z Curl Bar**: Se refiere a ejercicios que se realizan utilizando una barra de pesas curva, también conocida como E-Z Curl Bar. Esta barra tiene una curvatura en los puntos de agarre que reduce la tensión en las muñecas y los codos, y es comúnmente utilizada en ejercicios de bíceps y tríceps.\n",
    "\n",
    "    - **Foam Roll**: Se refiere a ejercicios que se realizan utilizando un rodillo de espuma o foam roller. Los foam rollers se utilizan para realizar ejercicios de auto-liberación miofascial, también conocidos como auto-masaje, para aliviar la tensión muscular y mejorar la movilidad.\n",
    "\n"
   ]
  },
  {
   "cell_type": "code",
   "execution_count": 8,
   "metadata": {},
   "outputs": [
    {
     "data": {
      "text/plain": [
       "Level\n",
       "Intermediate    2446\n",
       "Beginner         459\n",
       "Expert            13\n",
       "Name: count, dtype: int64"
      ]
     },
     "execution_count": 8,
     "metadata": {},
     "output_type": "execute_result"
    }
   ],
   "source": [
    "df_gym['Level'].value_counts()"
   ]
  },
  {
   "cell_type": "markdown",
   "metadata": {},
   "source": [
    "- En la columna *'Level'* encontramos los siguientes valores : \n",
    "\n",
    "    - **Beginner**: personas que están en las etapas iniciales de su entrenamiento o actividad física. Los principiantes pueden tener poca o ninguna experiencia previa en el tipo de ejercicio o actividad que están realizando y pueden requerir una guía y orientación adicionales para realizar los ejercicios de manera segura y efectiva.\n",
    "\n",
    "    - **Intermediate**: personas que tienen un nivel moderado de experiencia y habilidad en el tipo de ejercicio o actividad física que están realizando. Los intermedios pueden haber estado entrenando durante algún tiempo y haber desarrollado una base sólida de fuerza, ​​resistencia y ​​habilidades técnicas, pero aún tienen margen de mejora en ciertas áreas.\n",
    "\n",
    "    - **Expert**: personas que tienen un alto nivel de experiencia y habilidad en el tipo de ejercicio o actividad física que están realizando. Los expertos pueden haber dedicado años al entrenamiento y la práctica intensiva, y pueden tener un conocimiento avanzado de las técnicas, estrategias y métodos de entrenamiento específicos de su disciplina.\n"
   ]
  },
  {
   "cell_type": "markdown",
   "metadata": {},
   "source": [
    "***EXPLORACIÓN DE LOS DATOS***"
   ]
  },
  {
   "cell_type": "markdown",
   "metadata": {},
   "source": [
    "1.- Vamos a ir paso por paso analizando nuestro dataset desde un punto de vista de los datos (tipos , tamaño dataset ,NaN...)"
   ]
  },
  {
   "cell_type": "code",
   "execution_count": 9,
   "metadata": {},
   "outputs": [
    {
     "name": "stdout",
     "output_type": "stream",
     "text": [
      "Numero de filas : 2918\n",
      "Numero de columnas : 9\n"
     ]
    }
   ],
   "source": [
    "num_filas, num_colum = df_gym.shape\n",
    "\n",
    "print (f\"Numero de filas : {num_filas}\")\n",
    "print (f\"Numero de columnas : {num_colum}\")"
   ]
  },
  {
   "cell_type": "markdown",
   "metadata": {},
   "source": [
    "- El tamaño de nuestro Dataset es de :\n",
    "\n",
    "    ***- 2918 Filas***\n",
    "\n",
    "    ***- 9 Columnas***"
   ]
  },
  {
   "cell_type": "markdown",
   "metadata": {},
   "source": [
    "2.- Comprobamos el tipo de datos de los que se compone nuestro dataset"
   ]
  },
  {
   "cell_type": "code",
   "execution_count": 10,
   "metadata": {},
   "outputs": [
    {
     "data": {
      "text/plain": [
       "Unnamed: 0      int64\n",
       "Title          object\n",
       "Desc           object\n",
       "Type           object\n",
       "BodyPart       object\n",
       "Equipment      object\n",
       "Level          object\n",
       "Rating        float64\n",
       "RatingDesc     object\n",
       "dtype: object"
      ]
     },
     "execution_count": 10,
     "metadata": {},
     "output_type": "execute_result"
    }
   ],
   "source": [
    "df_gym.dtypes"
   ]
  },
  {
   "cell_type": "markdown",
   "metadata": {},
   "source": [
    "- Como podemos observar, en nuestro dataset lo que predomina son las variables categóricas, también encontramos tipo *'float'* e *'int'*"
   ]
  },
  {
   "cell_type": "markdown",
   "metadata": {},
   "source": [
    "3.- Sacaremos el porcentaje por columna de valores NaN de nuestro dataset para posteriormente en la fase de *'Limpieza de Datos'* elegir como trataremos con esos valores NaN"
   ]
  },
  {
   "cell_type": "code",
   "execution_count": 11,
   "metadata": {},
   "outputs": [
    {
     "name": "stdout",
     "output_type": "stream",
     "text": [
      "El porcentaje de valores NaN en la columna Unnamed: 0 es de 0 %\n",
      "El porcentaje de valores NaN en la columna Title es de 0 %\n",
      "El porcentaje de valores NaN en la columna Desc es de 53 %\n",
      "El porcentaje de valores NaN en la columna Type es de 0 %\n",
      "El porcentaje de valores NaN en la columna BodyPart es de 0 %\n",
      "El porcentaje de valores NaN en la columna Equipment es de 1 %\n",
      "El porcentaje de valores NaN en la columna Level es de 0 %\n",
      "El porcentaje de valores NaN en la columna Rating es de 65 %\n",
      "El porcentaje de valores NaN en la columna RatingDesc es de 70 %\n"
     ]
    }
   ],
   "source": [
    "for n in df_gym.columns:\n",
    "    porcentaje = df_gym[n].isna().sum()*100/len(df_gym[n])\n",
    "    porcentaje = int(round(porcentaje))\n",
    "    print (f\"El porcentaje de valores NaN en la columna {n} es de {porcentaje} %\")"
   ]
  },
  {
   "cell_type": "markdown",
   "metadata": {},
   "source": [
    "***LIMPIEZA DE LOS DATOS***"
   ]
  },
  {
   "cell_type": "markdown",
   "metadata": {},
   "source": [
    "1.- En esta fase vamos a tratar de *'limpiar'* nuestro dataset y dejarlo listo para cuando entrenemos nuestro modelo, para ello, realizaremos una copia para posteriormente comparar nuestros dataset"
   ]
  },
  {
   "cell_type": "code",
   "execution_count": 12,
   "metadata": {},
   "outputs": [],
   "source": [
    "df_gym_clean = df_gym.copy()"
   ]
  },
  {
   "cell_type": "code",
   "execution_count": 13,
   "metadata": {},
   "outputs": [],
   "source": [
    "df_gym_clean.drop(columns={'Unnamed: 0' , 'RatingDesc'} , inplace=True)"
   ]
  },
  {
   "cell_type": "markdown",
   "metadata": {},
   "source": [
    "- Hemos eliminado las siguientes columnas de nuestro Dataset : \n",
    "\n",
    "    - Unnamed: 0 = No necesitamos esta columna ya que contamos con un índice\n",
    "    \n",
    "    - RatingDesc = Tampoco necesitamos esta columna para el objetivo de nuestro proyecto, además que contamos con + 60% de valores NaN"
   ]
  },
  {
   "cell_type": "markdown",
   "metadata": {},
   "source": [
    "2.- Vamos a visualizar de nuevo nuestros valores NaN y decidir que podemos hacer para solventar esta ausencia de valores"
   ]
  },
  {
   "cell_type": "code",
   "execution_count": 14,
   "metadata": {},
   "outputs": [
    {
     "name": "stdout",
     "output_type": "stream",
     "text": [
      "El porcentaje de valores NaN en la columna Title es de 0 %\n",
      "El porcentaje de valores NaN en la columna Desc es de 53 %\n",
      "El porcentaje de valores NaN en la columna Type es de 0 %\n",
      "El porcentaje de valores NaN en la columna BodyPart es de 0 %\n",
      "El porcentaje de valores NaN en la columna Equipment es de 1 %\n",
      "El porcentaje de valores NaN en la columna Level es de 0 %\n",
      "El porcentaje de valores NaN en la columna Rating es de 65 %\n"
     ]
    }
   ],
   "source": [
    "for n in df_gym_clean.columns:\n",
    "    porcentaje = df_gym_clean[n].isna().sum()*100/len(df_gym_clean[n])\n",
    "    porcentaje = int(round(porcentaje))\n",
    "    print (f\"El porcentaje de valores NaN en la columna {n} es de {porcentaje} %\")"
   ]
  },
  {
   "cell_type": "markdown",
   "metadata": {},
   "source": [
    "- Viendo los porcentajes dados, afrontamos varios problemas : \n",
    "\n",
    "    - ***Columna Des*** : Esta columna es nuestro principal *'problema'* ya que es son datos categóricos y contamos con +50% de NaN\n",
    "\n",
    "    - ***Columna Equipment*** : En esta columna podemos solventar los NaN facilmente ya que es un porcentaje muy bajo.\n",
    "\n",
    "    - ***Columna Rating*** : Esta columna es la más alta en cuanto a valores NaN con +60%, podriamos solventar estos NaN hayando la media de ejercicios que involucren la misma parte del cuerpo"
   ]
  },
  {
   "cell_type": "code",
   "execution_count": 15,
   "metadata": {},
   "outputs": [
    {
     "name": "stdout",
     "output_type": "stream",
     "text": [
      "Hay 1550 de 2918 valores NaN en la columna 'Desc'\n",
      "Hay 32 de 2918 valores NaN en la columna 'Equipment'\n",
      "Hay 1887 de 2918 valores NaN en la columna 'Rating'\n"
     ]
    }
   ],
   "source": [
    "print(f\"Hay {df_gym_clean['Desc'].isna().sum()} de {len(df_gym_clean['Desc'])} valores NaN en la columna 'Desc'\")\n",
    "print(f\"Hay {df_gym_clean['Equipment'].isna().sum()} de {len(df_gym_clean['Equipment'])} valores NaN en la columna 'Equipment'\")\n",
    "print(f\"Hay {df_gym_clean['Rating'].isna().sum()} de {len(df_gym_clean['Rating'])} valores NaN en la columna 'Rating'\")"
   ]
  },
  {
   "cell_type": "markdown",
   "metadata": {},
   "source": [
    "**Limpiar valores NaN de la columna 'Desc'**"
   ]
  },
  {
   "cell_type": "markdown",
   "metadata": {},
   "source": [
    "- Pienso que la mejor opción para este caso es usar 'fillna()' y sustituir NaN por 'No Description' podriamos rellenar la descripción de cada ejercicio manualmente pero nos tomaría demasiado tiempo (implementar en un futuro esta solución)"
   ]
  },
  {
   "cell_type": "code",
   "execution_count": 16,
   "metadata": {},
   "outputs": [
    {
     "name": "stderr",
     "output_type": "stream",
     "text": [
      "/tmp/ipykernel_5902/866678334.py:1: FutureWarning: A value is trying to be set on a copy of a DataFrame or Series through chained assignment using an inplace method.\n",
      "The behavior will change in pandas 3.0. This inplace method will never work because the intermediate object on which we are setting values always behaves as a copy.\n",
      "\n",
      "For example, when doing 'df[col].method(value, inplace=True)', try using 'df.method({col: value}, inplace=True)' or df[col] = df[col].method(value) instead, to perform the operation inplace on the original object.\n",
      "\n",
      "\n",
      "  df_gym_clean['Desc'].fillna('No Desc' , inplace=True)\n"
     ]
    }
   ],
   "source": [
    "df_gym_clean['Desc'].fillna('No Desc' , inplace=True)"
   ]
  },
  {
   "cell_type": "markdown",
   "metadata": {},
   "source": [
    "**Limpiar valores NaN de la columna 'Equipment'**"
   ]
  },
  {
   "cell_type": "markdown",
   "metadata": {},
   "source": [
    "- En este caso, podriamos borrar esos valores NaN ya que son muy pocos, pero podemos rellenarlos manualmente para una mejor solución"
   ]
  },
  {
   "cell_type": "code",
   "execution_count": 17,
   "metadata": {},
   "outputs": [
    {
     "data": {
      "text/html": [
       "<div>\n",
       "<style scoped>\n",
       "    .dataframe tbody tr th:only-of-type {\n",
       "        vertical-align: middle;\n",
       "    }\n",
       "\n",
       "    .dataframe tbody tr th {\n",
       "        vertical-align: top;\n",
       "    }\n",
       "\n",
       "    .dataframe thead th {\n",
       "        text-align: right;\n",
       "    }\n",
       "</style>\n",
       "<table border=\"1\" class=\"dataframe\">\n",
       "  <thead>\n",
       "    <tr style=\"text-align: right;\">\n",
       "      <th></th>\n",
       "      <th>Title</th>\n",
       "      <th>Desc</th>\n",
       "      <th>Type</th>\n",
       "      <th>BodyPart</th>\n",
       "      <th>Equipment</th>\n",
       "      <th>Level</th>\n",
       "      <th>Rating</th>\n",
       "    </tr>\n",
       "  </thead>\n",
       "  <tbody>\n",
       "    <tr>\n",
       "      <th>637</th>\n",
       "      <td>Decline oblique crunch</td>\n",
       "      <td>The decline oblique crunch is a popular bodywe...</td>\n",
       "      <td>Strength</td>\n",
       "      <td>Abdominals</td>\n",
       "      <td>NaN</td>\n",
       "      <td>Intermediate</td>\n",
       "      <td>8.5</td>\n",
       "    </tr>\n",
       "    <tr>\n",
       "      <th>638</th>\n",
       "      <td>Decline sit-up</td>\n",
       "      <td>The decline sit-up is a bodyweight core exerci...</td>\n",
       "      <td>Strength</td>\n",
       "      <td>Abdominals</td>\n",
       "      <td>NaN</td>\n",
       "      <td>Intermediate</td>\n",
       "      <td>NaN</td>\n",
       "    </tr>\n",
       "    <tr>\n",
       "      <th>639</th>\n",
       "      <td>Hanging Windshield Wiper</td>\n",
       "      <td>The hanging windshield wiper is an advanced ab...</td>\n",
       "      <td>Strength</td>\n",
       "      <td>Abdominals</td>\n",
       "      <td>NaN</td>\n",
       "      <td>Intermediate</td>\n",
       "      <td>NaN</td>\n",
       "    </tr>\n",
       "    <tr>\n",
       "      <th>698</th>\n",
       "      <td>Groin and Back Stretch</td>\n",
       "      <td>No Desc</td>\n",
       "      <td>Stretching</td>\n",
       "      <td>Adductors</td>\n",
       "      <td>NaN</td>\n",
       "      <td>Beginner</td>\n",
       "      <td>7.1</td>\n",
       "    </tr>\n",
       "    <tr>\n",
       "      <th>699</th>\n",
       "      <td>Adductor/Groin</td>\n",
       "      <td>No Desc</td>\n",
       "      <td>Stretching</td>\n",
       "      <td>Adductors</td>\n",
       "      <td>NaN</td>\n",
       "      <td>Beginner</td>\n",
       "      <td>3.6</td>\n",
       "    </tr>\n",
       "    <tr>\n",
       "      <th>912</th>\n",
       "      <td>Ankle Circles</td>\n",
       "      <td>No Desc</td>\n",
       "      <td>Stretching</td>\n",
       "      <td>Calves</td>\n",
       "      <td>NaN</td>\n",
       "      <td>Beginner</td>\n",
       "      <td>7.2</td>\n",
       "    </tr>\n",
       "    <tr>\n",
       "      <th>913</th>\n",
       "      <td>Calf Stretch Elbows Against Wall</td>\n",
       "      <td>No Desc</td>\n",
       "      <td>Stretching</td>\n",
       "      <td>Calves</td>\n",
       "      <td>NaN</td>\n",
       "      <td>Beginner</td>\n",
       "      <td>4.9</td>\n",
       "    </tr>\n",
       "    <tr>\n",
       "      <th>914</th>\n",
       "      <td>Standing Soleus And Achilles Stretch</td>\n",
       "      <td>No Desc</td>\n",
       "      <td>Stretching</td>\n",
       "      <td>Calves</td>\n",
       "      <td>NaN</td>\n",
       "      <td>Beginner</td>\n",
       "      <td>4.2</td>\n",
       "    </tr>\n",
       "    <tr>\n",
       "      <th>1207</th>\n",
       "      <td>Kneeling Forearm Stretch</td>\n",
       "      <td>No Desc</td>\n",
       "      <td>Stretching</td>\n",
       "      <td>Forearms</td>\n",
       "      <td>NaN</td>\n",
       "      <td>Beginner</td>\n",
       "      <td>5.2</td>\n",
       "    </tr>\n",
       "    <tr>\n",
       "      <th>1402</th>\n",
       "      <td>Glute ham raise-</td>\n",
       "      <td>The glute ham raise is an exercise targeting t...</td>\n",
       "      <td>Strength</td>\n",
       "      <td>Hamstrings</td>\n",
       "      <td>NaN</td>\n",
       "      <td>Beginner</td>\n",
       "      <td>9.1</td>\n",
       "    </tr>\n",
       "    <tr>\n",
       "      <th>1403</th>\n",
       "      <td>Lying hamstring stretch with band</td>\n",
       "      <td>The lying hamstring stretch with band is a sim...</td>\n",
       "      <td>Stretching</td>\n",
       "      <td>Hamstrings</td>\n",
       "      <td>NaN</td>\n",
       "      <td>Beginner</td>\n",
       "      <td>5.9</td>\n",
       "    </tr>\n",
       "    <tr>\n",
       "      <th>1404</th>\n",
       "      <td>Upper Back-Leg Grab</td>\n",
       "      <td>No Desc</td>\n",
       "      <td>Stretching</td>\n",
       "      <td>Hamstrings</td>\n",
       "      <td>NaN</td>\n",
       "      <td>Beginner</td>\n",
       "      <td>5.4</td>\n",
       "    </tr>\n",
       "    <tr>\n",
       "      <th>1405</th>\n",
       "      <td>Seated Hamstring</td>\n",
       "      <td>No Desc</td>\n",
       "      <td>Stretching</td>\n",
       "      <td>Hamstrings</td>\n",
       "      <td>NaN</td>\n",
       "      <td>Beginner</td>\n",
       "      <td>5.3</td>\n",
       "    </tr>\n",
       "    <tr>\n",
       "      <th>1406</th>\n",
       "      <td>Alternating lunge jump</td>\n",
       "      <td>The alternating lunge jump is an explosive bod...</td>\n",
       "      <td>Stretching</td>\n",
       "      <td>Hamstrings</td>\n",
       "      <td>NaN</td>\n",
       "      <td>Beginner</td>\n",
       "      <td>4.2</td>\n",
       "    </tr>\n",
       "    <tr>\n",
       "      <th>1407</th>\n",
       "      <td>Runner's Stretch</td>\n",
       "      <td>No Desc</td>\n",
       "      <td>Stretching</td>\n",
       "      <td>Hamstrings</td>\n",
       "      <td>NaN</td>\n",
       "      <td>Intermediate</td>\n",
       "      <td>3.6</td>\n",
       "    </tr>\n",
       "    <tr>\n",
       "      <th>1531</th>\n",
       "      <td>Dynamic Back Stretch</td>\n",
       "      <td>No Desc</td>\n",
       "      <td>Stretching</td>\n",
       "      <td>Lats</td>\n",
       "      <td>NaN</td>\n",
       "      <td>Beginner</td>\n",
       "      <td>4.8</td>\n",
       "    </tr>\n",
       "    <tr>\n",
       "      <th>1532</th>\n",
       "      <td>Chair Lower Back Stretch</td>\n",
       "      <td>No Desc</td>\n",
       "      <td>Stretching</td>\n",
       "      <td>Lats</td>\n",
       "      <td>NaN</td>\n",
       "      <td>Beginner</td>\n",
       "      <td>3.2</td>\n",
       "    </tr>\n",
       "    <tr>\n",
       "      <th>1533</th>\n",
       "      <td>Side-Lying Floor Stretch</td>\n",
       "      <td>No Desc</td>\n",
       "      <td>Stretching</td>\n",
       "      <td>Lats</td>\n",
       "      <td>NaN</td>\n",
       "      <td>Beginner</td>\n",
       "      <td>1.0</td>\n",
       "    </tr>\n",
       "    <tr>\n",
       "      <th>1624</th>\n",
       "      <td>Dancer's Stretch</td>\n",
       "      <td>No Desc</td>\n",
       "      <td>Stretching</td>\n",
       "      <td>Lower Back</td>\n",
       "      <td>NaN</td>\n",
       "      <td>Beginner</td>\n",
       "      <td>5.4</td>\n",
       "    </tr>\n",
       "    <tr>\n",
       "      <th>1625</th>\n",
       "      <td>Cat Stretch</td>\n",
       "      <td>No Desc</td>\n",
       "      <td>Stretching</td>\n",
       "      <td>Lower Back</td>\n",
       "      <td>NaN</td>\n",
       "      <td>Beginner</td>\n",
       "      <td>4.9</td>\n",
       "    </tr>\n",
       "    <tr>\n",
       "      <th>1626</th>\n",
       "      <td>Crossover Reverse Lunge</td>\n",
       "      <td>No Desc</td>\n",
       "      <td>Stretching</td>\n",
       "      <td>Lower Back</td>\n",
       "      <td>NaN</td>\n",
       "      <td>Beginner</td>\n",
       "      <td>3.9</td>\n",
       "    </tr>\n",
       "    <tr>\n",
       "      <th>1627</th>\n",
       "      <td>Standing Pelvic Tilt</td>\n",
       "      <td>No Desc</td>\n",
       "      <td>Stretching</td>\n",
       "      <td>Lower Back</td>\n",
       "      <td>NaN</td>\n",
       "      <td>Beginner</td>\n",
       "      <td>3.1</td>\n",
       "    </tr>\n",
       "    <tr>\n",
       "      <th>1780</th>\n",
       "      <td>Scapular Pull-Up</td>\n",
       "      <td>No Desc</td>\n",
       "      <td>Strength</td>\n",
       "      <td>Traps</td>\n",
       "      <td>NaN</td>\n",
       "      <td>Beginner</td>\n",
       "      <td>6.6</td>\n",
       "    </tr>\n",
       "    <tr>\n",
       "      <th>2418</th>\n",
       "      <td>Alternate Leg Diagonal Bound</td>\n",
       "      <td>No Desc</td>\n",
       "      <td>Plyometrics</td>\n",
       "      <td>Quadriceps</td>\n",
       "      <td>NaN</td>\n",
       "      <td>Beginner</td>\n",
       "      <td>6.9</td>\n",
       "    </tr>\n",
       "    <tr>\n",
       "      <th>2419</th>\n",
       "      <td>Sit Squats</td>\n",
       "      <td>No Desc</td>\n",
       "      <td>Stretching</td>\n",
       "      <td>Quadriceps</td>\n",
       "      <td>NaN</td>\n",
       "      <td>Beginner</td>\n",
       "      <td>6.1</td>\n",
       "    </tr>\n",
       "    <tr>\n",
       "      <th>2420</th>\n",
       "      <td>Frog Hops</td>\n",
       "      <td>No Desc</td>\n",
       "      <td>Stretching</td>\n",
       "      <td>Quadriceps</td>\n",
       "      <td>NaN</td>\n",
       "      <td>Beginner</td>\n",
       "      <td>3.9</td>\n",
       "    </tr>\n",
       "    <tr>\n",
       "      <th>2421</th>\n",
       "      <td>Dumbbell lateral hop to sprint</td>\n",
       "      <td>The dumbbell lateral hop to sprint is a multi-...</td>\n",
       "      <td>Plyometrics</td>\n",
       "      <td>Quadriceps</td>\n",
       "      <td>NaN</td>\n",
       "      <td>Intermediate</td>\n",
       "      <td>0.0</td>\n",
       "    </tr>\n",
       "    <tr>\n",
       "      <th>2422</th>\n",
       "      <td>Smith machine lunge sprint</td>\n",
       "      <td>The Smith machine lunge sprint is a lower-body...</td>\n",
       "      <td>Strength</td>\n",
       "      <td>Quadriceps</td>\n",
       "      <td>NaN</td>\n",
       "      <td>Intermediate</td>\n",
       "      <td>0.0</td>\n",
       "    </tr>\n",
       "    <tr>\n",
       "      <th>2423</th>\n",
       "      <td>Sissy squat</td>\n",
       "      <td>The sissy squat is a bodyweight squat variatio...</td>\n",
       "      <td>Strength</td>\n",
       "      <td>Quadriceps</td>\n",
       "      <td>NaN</td>\n",
       "      <td>Intermediate</td>\n",
       "      <td>NaN</td>\n",
       "    </tr>\n",
       "    <tr>\n",
       "      <th>2763</th>\n",
       "      <td>Side Wrist Pull</td>\n",
       "      <td>No Desc</td>\n",
       "      <td>Stretching</td>\n",
       "      <td>Shoulders</td>\n",
       "      <td>NaN</td>\n",
       "      <td>Beginner</td>\n",
       "      <td>8.4</td>\n",
       "    </tr>\n",
       "    <tr>\n",
       "      <th>2764</th>\n",
       "      <td>Elbow Circles</td>\n",
       "      <td>No Desc</td>\n",
       "      <td>Stretching</td>\n",
       "      <td>Shoulders</td>\n",
       "      <td>NaN</td>\n",
       "      <td>Beginner</td>\n",
       "      <td>5.3</td>\n",
       "    </tr>\n",
       "    <tr>\n",
       "      <th>2765</th>\n",
       "      <td>Kneeling Arm Drill</td>\n",
       "      <td>No Desc</td>\n",
       "      <td>Plyometrics</td>\n",
       "      <td>Shoulders</td>\n",
       "      <td>NaN</td>\n",
       "      <td>Beginner</td>\n",
       "      <td>4.0</td>\n",
       "    </tr>\n",
       "  </tbody>\n",
       "</table>\n",
       "</div>"
      ],
      "text/plain": [
       "                                     Title  \\\n",
       "637                 Decline oblique crunch   \n",
       "638                         Decline sit-up   \n",
       "639               Hanging Windshield Wiper   \n",
       "698                 Groin and Back Stretch   \n",
       "699                         Adductor/Groin   \n",
       "912                          Ankle Circles   \n",
       "913       Calf Stretch Elbows Against Wall   \n",
       "914   Standing Soleus And Achilles Stretch   \n",
       "1207              Kneeling Forearm Stretch   \n",
       "1402                      Glute ham raise-   \n",
       "1403     Lying hamstring stretch with band   \n",
       "1404                   Upper Back-Leg Grab   \n",
       "1405                      Seated Hamstring   \n",
       "1406                Alternating lunge jump   \n",
       "1407                      Runner's Stretch   \n",
       "1531                  Dynamic Back Stretch   \n",
       "1532              Chair Lower Back Stretch   \n",
       "1533              Side-Lying Floor Stretch   \n",
       "1624                      Dancer's Stretch   \n",
       "1625                           Cat Stretch   \n",
       "1626               Crossover Reverse Lunge   \n",
       "1627                  Standing Pelvic Tilt   \n",
       "1780                      Scapular Pull-Up   \n",
       "2418          Alternate Leg Diagonal Bound   \n",
       "2419                            Sit Squats   \n",
       "2420                             Frog Hops   \n",
       "2421        Dumbbell lateral hop to sprint   \n",
       "2422            Smith machine lunge sprint   \n",
       "2423                           Sissy squat   \n",
       "2763                       Side Wrist Pull   \n",
       "2764                         Elbow Circles   \n",
       "2765                    Kneeling Arm Drill   \n",
       "\n",
       "                                                   Desc         Type  \\\n",
       "637   The decline oblique crunch is a popular bodywe...     Strength   \n",
       "638   The decline sit-up is a bodyweight core exerci...     Strength   \n",
       "639   The hanging windshield wiper is an advanced ab...     Strength   \n",
       "698                                             No Desc   Stretching   \n",
       "699                                             No Desc   Stretching   \n",
       "912                                             No Desc   Stretching   \n",
       "913                                             No Desc   Stretching   \n",
       "914                                             No Desc   Stretching   \n",
       "1207                                            No Desc   Stretching   \n",
       "1402  The glute ham raise is an exercise targeting t...     Strength   \n",
       "1403  The lying hamstring stretch with band is a sim...   Stretching   \n",
       "1404                                            No Desc   Stretching   \n",
       "1405                                            No Desc   Stretching   \n",
       "1406  The alternating lunge jump is an explosive bod...   Stretching   \n",
       "1407                                            No Desc   Stretching   \n",
       "1531                                            No Desc   Stretching   \n",
       "1532                                            No Desc   Stretching   \n",
       "1533                                            No Desc   Stretching   \n",
       "1624                                            No Desc   Stretching   \n",
       "1625                                            No Desc   Stretching   \n",
       "1626                                            No Desc   Stretching   \n",
       "1627                                            No Desc   Stretching   \n",
       "1780                                            No Desc     Strength   \n",
       "2418                                            No Desc  Plyometrics   \n",
       "2419                                            No Desc   Stretching   \n",
       "2420                                            No Desc   Stretching   \n",
       "2421  The dumbbell lateral hop to sprint is a multi-...  Plyometrics   \n",
       "2422  The Smith machine lunge sprint is a lower-body...     Strength   \n",
       "2423  The sissy squat is a bodyweight squat variatio...     Strength   \n",
       "2763                                            No Desc   Stretching   \n",
       "2764                                            No Desc   Stretching   \n",
       "2765                                            No Desc  Plyometrics   \n",
       "\n",
       "        BodyPart Equipment         Level  Rating  \n",
       "637   Abdominals       NaN  Intermediate     8.5  \n",
       "638   Abdominals       NaN  Intermediate     NaN  \n",
       "639   Abdominals       NaN  Intermediate     NaN  \n",
       "698    Adductors       NaN      Beginner     7.1  \n",
       "699    Adductors       NaN      Beginner     3.6  \n",
       "912       Calves       NaN      Beginner     7.2  \n",
       "913       Calves       NaN      Beginner     4.9  \n",
       "914       Calves       NaN      Beginner     4.2  \n",
       "1207    Forearms       NaN      Beginner     5.2  \n",
       "1402  Hamstrings       NaN      Beginner     9.1  \n",
       "1403  Hamstrings       NaN      Beginner     5.9  \n",
       "1404  Hamstrings       NaN      Beginner     5.4  \n",
       "1405  Hamstrings       NaN      Beginner     5.3  \n",
       "1406  Hamstrings       NaN      Beginner     4.2  \n",
       "1407  Hamstrings       NaN  Intermediate     3.6  \n",
       "1531        Lats       NaN      Beginner     4.8  \n",
       "1532        Lats       NaN      Beginner     3.2  \n",
       "1533        Lats       NaN      Beginner     1.0  \n",
       "1624  Lower Back       NaN      Beginner     5.4  \n",
       "1625  Lower Back       NaN      Beginner     4.9  \n",
       "1626  Lower Back       NaN      Beginner     3.9  \n",
       "1627  Lower Back       NaN      Beginner     3.1  \n",
       "1780       Traps       NaN      Beginner     6.6  \n",
       "2418  Quadriceps       NaN      Beginner     6.9  \n",
       "2419  Quadriceps       NaN      Beginner     6.1  \n",
       "2420  Quadriceps       NaN      Beginner     3.9  \n",
       "2421  Quadriceps       NaN  Intermediate     0.0  \n",
       "2422  Quadriceps       NaN  Intermediate     0.0  \n",
       "2423  Quadriceps       NaN  Intermediate     NaN  \n",
       "2763   Shoulders       NaN      Beginner     8.4  \n",
       "2764   Shoulders       NaN      Beginner     5.3  \n",
       "2765   Shoulders       NaN      Beginner     4.0  "
      ]
     },
     "execution_count": 17,
     "metadata": {},
     "output_type": "execute_result"
    }
   ],
   "source": [
    "df_gym_clean[df_gym_clean['Equipment'].isna()]"
   ]
  },
  {
   "cell_type": "markdown",
   "metadata": {},
   "source": [
    "- Rellenaremos estos valores con los valores existentes en la fila"
   ]
  },
  {
   "cell_type": "code",
   "execution_count": 18,
   "metadata": {},
   "outputs": [
    {
     "data": {
      "text/plain": [
       "array(['Bands', 'Barbell', 'Kettlebells', 'Dumbbell', 'Other', 'Cable',\n",
       "       'Machine', 'Body Only', 'Medicine Ball', nan, 'Exercise Ball',\n",
       "       'Foam Roll', 'E-Z Curl Bar'], dtype=object)"
      ]
     },
     "execution_count": 18,
     "metadata": {},
     "output_type": "execute_result"
    }
   ],
   "source": [
    "df_gym_clean['Equipment'].unique()"
   ]
  },
  {
   "cell_type": "code",
   "execution_count": 19,
   "metadata": {},
   "outputs": [],
   "source": [
    "df_gym_clean.loc[637 , 'Equipment'] = 'Body Only'\n",
    "df_gym_clean.loc[638, 'Equipment'] = 'Body Only'\n",
    "df_gym_clean.loc[639, 'Equipment'] = 'Body Only'\n",
    "df_gym_clean.loc[2765, 'Equipment'] = 'Body Only'\n",
    "df_gym_clean.loc[698, 'Equipment'] = 'Body Only'\n",
    "df_gym_clean.loc[699, 'Equipment'] = 'Body Only'\n",
    "df_gym_clean.loc[912, 'Equipment'] = 'Body Only'\n",
    "df_gym_clean.loc[913, 'Equipment'] = 'Body Only'\n",
    "df_gym_clean.loc[914, 'Equipment'] = 'Body Only'\n",
    "df_gym_clean.loc[1207, 'Equipment'] = 'Body Only'\n"
   ]
  },
  {
   "cell_type": "code",
   "execution_count": 20,
   "metadata": {},
   "outputs": [],
   "source": [
    "df_gym_clean.loc[1402, 'Equipment'] = 'Barbell'\n",
    "df_gym_clean.loc[1403, 'Equipment'] = 'Bands'\n",
    "df_gym_clean.loc[1404, 'Equipment'] = 'Body Only'\n",
    "df_gym_clean.loc[1405, 'Equipment'] = 'Body Only'\n",
    "df_gym_clean.loc[1406, 'Equipment'] = 'Body Only'\n",
    "df_gym_clean.loc[1407, 'Equipment'] = 'Body Only'\n",
    "df_gym_clean.loc[1531, 'Equipment'] = 'Body Only'\n",
    "df_gym_clean.loc[1532, 'Equipment'] = 'Body Only'\n",
    "df_gym_clean.loc[1533, 'Equipment'] = 'Body Only'\n",
    "df_gym_clean.loc[1624, 'Equipment'] = 'Body Only'"
   ]
  },
  {
   "cell_type": "code",
   "execution_count": 21,
   "metadata": {},
   "outputs": [],
   "source": [
    "df_gym_clean.loc[1625, 'Equipment'] = 'Body Only'\n",
    "df_gym_clean.loc[1626, 'Equipment'] = 'Body Only'\n",
    "df_gym_clean.loc[1627, 'Equipment'] = 'Body Only'\n",
    "df_gym_clean.loc[1780, 'Equipment'] = 'Body Only'\n",
    "df_gym_clean.loc[2418, 'Equipment'] = 'Body Only'\n",
    "df_gym_clean.loc[2419, 'Equipment'] = 'Body Only'\n",
    "df_gym_clean.loc[2420, 'Equipment'] = 'Body Only'\n",
    "df_gym_clean.loc[2421, 'Equipment'] = 'Dumbbell'\n",
    "df_gym_clean.loc[2422, 'Equipment'] = 'Machine'\n",
    "df_gym_clean.loc[2423, 'Equipment'] = 'Machine'"
   ]
  },
  {
   "cell_type": "code",
   "execution_count": 22,
   "metadata": {},
   "outputs": [],
   "source": [
    "df_gym_clean.loc[2763, 'Equipment'] = 'Body Only'\n",
    "df_gym_clean.loc[2764, 'Equipment'] = 'Body Only'\n"
   ]
  },
  {
   "cell_type": "markdown",
   "metadata": {},
   "source": [
    "**Limpiar valores NaN de la columna 'Rating'**"
   ]
  },
  {
   "cell_type": "markdown",
   "metadata": {},
   "source": [
    "- Para rellenar estos valores NaN usaremos la media "
   ]
  },
  {
   "cell_type": "code",
   "execution_count": 23,
   "metadata": {},
   "outputs": [
    {
     "name": "stderr",
     "output_type": "stream",
     "text": [
      "/tmp/ipykernel_5902/747035159.py:2: FutureWarning: A value is trying to be set on a copy of a DataFrame or Series through chained assignment using an inplace method.\n",
      "The behavior will change in pandas 3.0. This inplace method will never work because the intermediate object on which we are setting values always behaves as a copy.\n",
      "\n",
      "For example, when doing 'df[col].method(value, inplace=True)', try using 'df.method({col: value}, inplace=True)' or df[col] = df[col].method(value) instead, to perform the operation inplace on the original object.\n",
      "\n",
      "\n",
      "  df_gym_clean['Rating'].fillna(media , inplace=True)\n"
     ]
    }
   ],
   "source": [
    "media = df_gym_clean['Rating'].mean()\n",
    "df_gym_clean['Rating'].fillna(media , inplace=True)"
   ]
  },
  {
   "cell_type": "markdown",
   "metadata": {},
   "source": [
    "3.- Volvemos a visualizar los porcentajes de NaN de nuestro dataset para asegurar que hemos sustituido los NaN "
   ]
  },
  {
   "cell_type": "code",
   "execution_count": 24,
   "metadata": {},
   "outputs": [
    {
     "name": "stdout",
     "output_type": "stream",
     "text": [
      "El porcentaje de valores NaN en la columna Title es de 0 %\n",
      "El porcentaje de valores NaN en la columna Desc es de 0 %\n",
      "El porcentaje de valores NaN en la columna Type es de 0 %\n",
      "El porcentaje de valores NaN en la columna BodyPart es de 0 %\n",
      "El porcentaje de valores NaN en la columna Equipment es de 0 %\n",
      "El porcentaje de valores NaN en la columna Level es de 0 %\n",
      "El porcentaje de valores NaN en la columna Rating es de 0 %\n"
     ]
    }
   ],
   "source": [
    "for n in df_gym_clean.columns:\n",
    "    porcentaje = df_gym_clean[n].isna().sum()*100/len(df_gym_clean[n])\n",
    "    porcentaje = int(round(porcentaje))\n",
    "    print (f\"El porcentaje de valores NaN en la columna {n} es de {porcentaje} %\")"
   ]
  },
  {
   "cell_type": "markdown",
   "metadata": {},
   "source": [
    "- Como podemos ver, ya no hay valores NaN en nuestro dataset"
   ]
  },
  {
   "cell_type": "markdown",
   "metadata": {},
   "source": [
    "***VISUALIZACION DE LOS DATOS***"
   ]
  },
  {
   "cell_type": "markdown",
   "metadata": {},
   "source": [
    "- En esta fase vamos a visualizar algunos datos relevantes de nuestro dataset :\n",
    "\n",
    "    - Modalidad predominante en nuestro dataset\n",
    "\n",
    "    - Ejercicios dominantes en nuestro dataset (parte del cuerpo de la que más ejercicios existen)\n",
    "\n",
    "    - Ejercicios por nivel de usuario"
   ]
  },
  {
   "cell_type": "markdown",
   "metadata": {},
   "source": [
    "***MODALIDAD PREDOMINANTE EN NUESTRO DATASET***"
   ]
  },
  {
   "cell_type": "code",
   "execution_count": 25,
   "metadata": {},
   "outputs": [
    {
     "data": {
      "image/png": "[encoded data removed]",
      "text/plain": [
       "<Figure size 1000x600 with 1 Axes>"
      ]
     },
     "metadata": {},
     "output_type": "display_data"
    }
   ],
   "source": [
    "conteo_tipo = df_gym_clean['Type'].value_counts()\n",
    "\n",
    "\n",
    "plt.figure(figsize=(10, 6))  \n",
    "conteo_tipo.plot(kind='bar', color='skyblue') \n",
    "plt.title('Type')  \n",
    "plt.xlabel('Tipo de ejercicio') \n",
    "plt.ylabel('Frecuencia') \n",
    "plt.xticks(rotation=45) \n",
    "plt.grid(axis='y', linestyle='--', alpha=0.7) \n",
    "plt.show()"
   ]
  },
  {
   "cell_type": "markdown",
   "metadata": {},
   "source": [
    "- Observaciones :\n",
    "\n",
    "    - Vemos que los ejercicios de fuerza predominan en nuestro dataset\n",
    "\n",
    "    - Tendría sentido decir que nuestro dataset va dirigido a usuarios que realizan ejercicios de fuerza ya que serán los que más información tendrán\n"
   ]
  },
  {
   "cell_type": "markdown",
   "metadata": {},
   "source": [
    "***PARTE DEL CUERPO CON MÁS OCURRENCIAS***"
   ]
  },
  {
   "cell_type": "code",
   "execution_count": 26,
   "metadata": {},
   "outputs": [
    {
     "data": {
      "image/png": "[encoded data removed]",
      "text/plain": [
       "<Figure size 1000x600 with 1 Axes>"
      ]
     },
     "metadata": {},
     "output_type": "display_data"
    }
   ],
   "source": [
    "conteo_tipo = df_gym_clean['BodyPart'].value_counts()\n",
    "\n",
    "\n",
    "plt.figure(figsize=(10, 6))  \n",
    "conteo_tipo.plot(kind='bar', color='skyblue') \n",
    "plt.title('BodyPart')  \n",
    "plt.xlabel('Músculo Involucrado') \n",
    "plt.ylabel('Numero de Ejercicios') \n",
    "plt.xticks(rotation=45) \n",
    "plt.grid(axis='y', linestyle='--', alpha=0.7) \n",
    "plt.show()"
   ]
  },
  {
   "cell_type": "markdown",
   "metadata": {},
   "source": [
    "- Observaciones : \n",
    "\n",
    "    - Vemos que tenemos mucha información sobre grupos musculares como abdominales, cuadriceps u hombros"
   ]
  },
  {
   "cell_type": "markdown",
   "metadata": {},
   "source": [
    "***NIVEL***"
   ]
  },
  {
   "cell_type": "code",
   "execution_count": 27,
   "metadata": {},
   "outputs": [
    {
     "data": {
      "image/png": "[encoded data removed]",
      "text/plain": [
       "<Figure size 1000x600 with 1 Axes>"
      ]
     },
     "metadata": {},
     "output_type": "display_data"
    }
   ],
   "source": [
    "conteo_tipo = df_gym_clean['Level'].value_counts()\n",
    "\n",
    "\n",
    "plt.figure(figsize=(10, 6))  \n",
    "conteo_tipo.plot(kind='bar', color='skyblue') \n",
    "plt.title('Level')  \n",
    "plt.xlabel('Nivel del Ejercicio') \n",
    "plt.ylabel('Frecuencia') \n",
    "plt.xticks(rotation=45) \n",
    "plt.grid(axis='y', linestyle='--', alpha=0.7) \n",
    "plt.show()"
   ]
  },
  {
   "cell_type": "markdown",
   "metadata": {},
   "source": [
    "- Observaciones : \n",
    "\n",
    "    - Vemos que los ejercicios que predominan son los ejercicios de nivel intermedio seguido de iniciación\n",
    "\n",
    "    - Podriamos decir que este dataset va dirigido a un target amateur "
   ]
  },
  {
   "cell_type": "code",
   "execution_count": 28,
   "metadata": {},
   "outputs": [],
   "source": [
    "## df_gym_clean.to_csv('/home/ayala/Escritorio/BOOTCAMP IA/TRABAJO FIN DE BOOTCAMP/TRABAJO/lab/dataset/megaGymDataset_clean.csv' , index=False)"
   ]
  }
 ],
 "metadata": {
  "kernelspec": {
   "display_name": "gym",
   "language": "python",
   "name": "python3"
  },
  "language_info": {
   "codemirror_mode": {
    "name": "ipython",
    "version": 3
   },
   "file_extension": ".py",
   "mimetype": "text/x-python",
   "name": "python",
   "nbconvert_exporter": "python",
   "pygments_lexer": "ipython3",
   "version": "3.12.3"
  }
 },
 "nbformat": 4,
 "nbformat_minor": 2
}
